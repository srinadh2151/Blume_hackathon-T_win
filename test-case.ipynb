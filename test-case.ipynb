{
 "cells": [
  {
   "cell_type": "code",
   "execution_count": 2,
   "id": "meaningful-cardiff",
   "metadata": {},
   "outputs": [],
   "source": [
    "import numpy as np\n",
    "import pandas as pd"
   ]
  },
  {
   "cell_type": "code",
   "execution_count": 3,
   "id": "stock-toyota",
   "metadata": {},
   "outputs": [],
   "source": [
    "#To check if i can raise PRs & merge the code from here"
   ]
  },
  {
   "cell_type": "code",
   "execution_count": 4,
   "id": "regulation-tension",
   "metadata": {},
   "outputs": [],
   "source": [
    "#check version 02"
   ]
  },
  {
   "cell_type": "code",
   "execution_count": null,
   "id": "speaking-qatar",
   "metadata": {},
   "outputs": [],
   "source": []
  }
 ],
 "metadata": {
  "kernelspec": {
   "display_name": "conda_python3",
   "language": "python",
   "name": "conda_python3"
  },
  "language_info": {
   "codemirror_mode": {
    "name": "ipython",
    "version": 3
   },
   "file_extension": ".py",
   "mimetype": "text/x-python",
   "name": "python",
   "nbconvert_exporter": "python",
   "pygments_lexer": "ipython3",
   "version": "3.6.13"
  }
 },
 "nbformat": 4,
 "nbformat_minor": 5
}
